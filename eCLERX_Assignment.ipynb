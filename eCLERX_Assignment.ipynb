{
  "nbformat": 4,
  "nbformat_minor": 0,
  "metadata": {
    "colab": {
      "name": "eCLERX_Assignment.ipynb",
      "provenance": [],
      "authorship_tag": "ABX9TyOUukD0pYjSK5txMF+Whgqv",
      "include_colab_link": true
    },
    "kernelspec": {
      "name": "python3",
      "display_name": "Python 3"
    },
    "language_info": {
      "name": "python"
    }
  },
  "cells": [
    {
      "cell_type": "markdown",
      "metadata": {
        "id": "view-in-github",
        "colab_type": "text"
      },
      "source": [
        "<a href=\"https://colab.research.google.com/github/Soumya164/eCLERX_Assignment_Soumya_Ranjan_dash/blob/main/eCLERX_Assignment.ipynb\" target=\"_parent\"><img src=\"https://colab.research.google.com/assets/colab-badge.svg\" alt=\"Open In Colab\"/></a>"
      ]
    },
    {
      "cell_type": "code",
      "execution_count": 4,
      "metadata": {
        "colab": {
          "base_uri": "https://localhost:8080/"
        },
        "id": "m7J-Fh5qBoR9",
        "outputId": "59992576-ab88-4484-b16d-075db6745e05"
      },
      "outputs": [
        {
          "output_type": "stream",
          "name": "stdout",
          "text": [
            "Requirement already satisfied: scrapy in /usr/local/lib/python3.7/dist-packages (2.6.1)\n",
            "Requirement already satisfied: itemloaders>=1.0.1 in /usr/local/lib/python3.7/dist-packages (from scrapy) (1.0.4)\n",
            "Requirement already satisfied: pyOpenSSL>=16.2.0 in /usr/local/lib/python3.7/dist-packages (from scrapy) (22.0.0)\n",
            "Requirement already satisfied: protego>=0.1.15 in /usr/local/lib/python3.7/dist-packages (from scrapy) (0.2.1)\n",
            "Requirement already satisfied: setuptools in /usr/local/lib/python3.7/dist-packages (from scrapy) (57.4.0)\n",
            "Requirement already satisfied: cryptography>=2.0 in /usr/local/lib/python3.7/dist-packages (from scrapy) (36.0.1)\n",
            "Requirement already satisfied: zope.interface>=4.1.3 in /usr/local/lib/python3.7/dist-packages (from scrapy) (5.4.0)\n",
            "Requirement already satisfied: lxml>=3.5.0 in /usr/local/lib/python3.7/dist-packages (from scrapy) (4.2.6)\n",
            "Requirement already satisfied: parsel>=1.5.0 in /usr/local/lib/python3.7/dist-packages (from scrapy) (1.6.0)\n",
            "Requirement already satisfied: PyDispatcher>=2.0.5 in /usr/local/lib/python3.7/dist-packages (from scrapy) (2.0.5)\n",
            "Requirement already satisfied: Twisted>=17.9.0 in /usr/local/lib/python3.7/dist-packages (from scrapy) (22.2.0)\n",
            "Requirement already satisfied: service-identity>=16.0.0 in /usr/local/lib/python3.7/dist-packages (from scrapy) (21.1.0)\n",
            "Requirement already satisfied: itemadapter>=0.1.0 in /usr/local/lib/python3.7/dist-packages (from scrapy) (0.4.0)\n",
            "Requirement already satisfied: queuelib>=1.4.2 in /usr/local/lib/python3.7/dist-packages (from scrapy) (1.6.2)\n",
            "Requirement already satisfied: cssselect>=0.9.1 in /usr/local/lib/python3.7/dist-packages (from scrapy) (1.1.0)\n",
            "Requirement already satisfied: tldextract in /usr/local/lib/python3.7/dist-packages (from scrapy) (3.2.0)\n",
            "Requirement already satisfied: w3lib>=1.17.0 in /usr/local/lib/python3.7/dist-packages (from scrapy) (1.22.0)\n",
            "Requirement already satisfied: cffi>=1.12 in /usr/local/lib/python3.7/dist-packages (from cryptography>=2.0->scrapy) (1.15.0)\n",
            "Requirement already satisfied: pycparser in /usr/local/lib/python3.7/dist-packages (from cffi>=1.12->cryptography>=2.0->scrapy) (2.21)\n",
            "Requirement already satisfied: jmespath>=0.9.5 in /usr/local/lib/python3.7/dist-packages (from itemloaders>=1.0.1->scrapy) (0.10.0)\n",
            "Requirement already satisfied: six>=1.6.0 in /usr/local/lib/python3.7/dist-packages (from parsel>=1.5.0->scrapy) (1.15.0)\n",
            "Requirement already satisfied: attrs>=19.1.0 in /usr/local/lib/python3.7/dist-packages (from service-identity>=16.0.0->scrapy) (21.4.0)\n",
            "Requirement already satisfied: pyasn1 in /usr/local/lib/python3.7/dist-packages (from service-identity>=16.0.0->scrapy) (0.4.8)\n",
            "Requirement already satisfied: pyasn1-modules in /usr/local/lib/python3.7/dist-packages (from service-identity>=16.0.0->scrapy) (0.2.8)\n",
            "Requirement already satisfied: incremental>=21.3.0 in /usr/local/lib/python3.7/dist-packages (from Twisted>=17.9.0->scrapy) (21.3.0)\n",
            "Requirement already satisfied: constantly>=15.1 in /usr/local/lib/python3.7/dist-packages (from Twisted>=17.9.0->scrapy) (15.1.0)\n",
            "Requirement already satisfied: Automat>=0.8.0 in /usr/local/lib/python3.7/dist-packages (from Twisted>=17.9.0->scrapy) (20.2.0)\n",
            "Requirement already satisfied: typing-extensions>=3.6.5 in /usr/local/lib/python3.7/dist-packages (from Twisted>=17.9.0->scrapy) (3.10.0.2)\n",
            "Requirement already satisfied: hyperlink>=17.1.1 in /usr/local/lib/python3.7/dist-packages (from Twisted>=17.9.0->scrapy) (21.0.0)\n",
            "Requirement already satisfied: idna>=2.5 in /usr/local/lib/python3.7/dist-packages (from hyperlink>=17.1.1->Twisted>=17.9.0->scrapy) (2.10)\n",
            "Requirement already satisfied: filelock>=3.0.8 in /usr/local/lib/python3.7/dist-packages (from tldextract->scrapy) (3.6.0)\n",
            "Requirement already satisfied: requests>=2.1.0 in /usr/local/lib/python3.7/dist-packages (from tldextract->scrapy) (2.23.0)\n",
            "Requirement already satisfied: requests-file>=1.4 in /usr/local/lib/python3.7/dist-packages (from tldextract->scrapy) (1.5.1)\n",
            "Requirement already satisfied: urllib3!=1.25.0,!=1.25.1,<1.26,>=1.21.1 in /usr/local/lib/python3.7/dist-packages (from requests>=2.1.0->tldextract->scrapy) (1.24.3)\n",
            "Requirement already satisfied: certifi>=2017.4.17 in /usr/local/lib/python3.7/dist-packages (from requests>=2.1.0->tldextract->scrapy) (2021.10.8)\n",
            "Requirement already satisfied: chardet<4,>=3.0.2 in /usr/local/lib/python3.7/dist-packages (from requests>=2.1.0->tldextract->scrapy) (3.0.4)\n"
          ]
        }
      ],
      "source": [
        "!pip install scrapy"
      ]
    },
    {
      "cell_type": "code",
      "source": [
        "import re\n",
        "import requests\n",
        "from scrapy.http import HtmlResponse\n",
        "import pandas as pd"
      ],
      "metadata": {
        "id": "wnNZXvECBpRu"
      },
      "execution_count": 8,
      "outputs": []
    },
    {
      "cell_type": "code",
      "source": [
        "product_data = []"
      ],
      "metadata": {
        "id": "8K2zyc6zDLJr"
      },
      "execution_count": 13,
      "outputs": []
    },
    {
      "cell_type": "code",
      "source": [
        "my_url =\"https://www.netshoes.com.br/lst/top-marcas/adidas\""
      ],
      "metadata": {
        "id": "d6o6yrh0BpWi"
      },
      "execution_count": 9,
      "outputs": []
    },
    {
      "cell_type": "code",
      "source": [
        "headers = {\n",
        "            'authority': 'www.netshoes.com.br',\n",
        "            'accept': 'text/html,application/xhtml+xml,application/xml;q=0.9,image/avif,image/webp,image/apng,*/*;q=0.8,application/signed-exchange;v=b3;q=0.9',\n",
        "            'user-agent':'Mozilla/5.0 (Windows NT 10.0; Win64; x64) AppleWebKit/537.36 (KHTML, like Gecko) Chrome/98.0.4758.102 Safari/537.36'\n",
        "}"
      ],
      "metadata": {
        "id": "1Qs_TEshBpZm"
      },
      "execution_count": 10,
      "outputs": []
    },
    {
      "cell_type": "code",
      "source": [
        "res = requests.request(\"get\", url = my_url, headers = headers)\n",
        "response = HtmlResponse(url = my_url, body = res.content)\n",
        "print(response.status)"
      ],
      "metadata": {
        "colab": {
          "base_uri": "https://localhost:8080/"
        },
        "id": "nKbv9mkLBpez",
        "outputId": "5e382b76-19a0-4677-c2b0-766bfedf1162"
      },
      "execution_count": 11,
      "outputs": [
        {
          "output_type": "stream",
          "name": "stdout",
          "text": [
            "200\n"
          ]
        }
      ]
    },
    {
      "cell_type": "code",
      "source": [
        "links = response.xpath('//*[@class=\"wrapper\"]/a/@href').extract()\n",
        "print(links)"
      ],
      "metadata": {
        "colab": {
          "base_uri": "https://localhost:8080/"
        },
        "id": "kYw6Y2nmBphf",
        "outputId": "ac0af5e0-1d2c-42a4-8b69-6a7ce6bba053"
      },
      "execution_count": 12,
      "outputs": [
        {
          "output_type": "stream",
          "name": "stdout",
          "text": [
            "['//www.netshoes.com.br/tenis-adidas-coreracer-masculino-azul+petroleo+branco-NQQ-4635-012', '//www.netshoes.com.br/tenis-adidas-coreracer-masculino-preto+branco-NQQ-4635-205', '//www.netshoes.com.br/tenis-adidas-runfalcon-20-masculino-preto+branco-3ZP-0573-026', '//www.netshoes.com.br/tenis-adidas-runfalcon-20-masculino-preto+cinza-3ZP-0573-172', '//www.netshoes.com.br/tenis-adidas-terrex-soulstride-trail-outdoor-masculino-branco+chumbo-3ZP-1384-890', '//www.netshoes.com.br/chinelo-infantil-slide-adidas-adilette-aqua-azul+branco-3ZP-0905-058', '//www.netshoes.com.br/tenis-adidas-terrex-soulstride-trail-outdoor-feminino-preto+azul+turquesa-3ZP-1383-111', '//www.netshoes.com.br/maio-infantil-adidas-atly-v-3stripes-preto+branco-COL-4446-026', '//www.netshoes.com.br/chinelo-adidas-comfort-flip-flop-feminino-branco+preto-3ZP-0903-028', '//www.netshoes.com.br/maio-infantil-adidas-fitness-athly-v-3-stripes-preto+branco-COL-7599-026', '//www.netshoes.com.br/jaqueta-adidas-essentials-bomber-insulated-masculina-preto-NQQ-6499-006', '//www.netshoes.com.br/camisa-polo-adidas-club-feminina-preto+branco-3ZP-0900-026', '//www.netshoes.com.br/tenis-adidas-runfalcon-20-masculino-azul+preto-NQQ-6923-108', '//www.netshoes.com.br/maio-adidas-pro-big-bos-preto+branco-3ZP-1372-026', '//www.netshoes.com.br/kit-munhequeira-adidas-longa-c-2-unidades-branco-3ZP-2538-014', '//www.netshoes.com.br/chinelo-adidas-comfort-flip-flop-feminino-preto+chumbo-3ZP-0903-793', '//www.netshoes.com.br/tenis-adidas-coreracer-feminino-preto-NQQ-4636-793', '//www.netshoes.com.br/mochila-adidas-adipower-19-azul-3ZP-2534-008', '//www.netshoes.com.br/chinelo-adidas-adilette-shower-masculino-preto-COL-7561-006', '//www.netshoes.com.br/short-adidas-3s-masculino-preto+branco-2FW-5549-026', '//www.netshoes.com.br/tenis-adidas-runfalcon-20-feminino-preto-NQQ-6922-006', '//www.netshoes.com.br/mochila-adidas-adipower-18-preto-3ZP-2533-006', '//www.netshoes.com.br/munhequeira-adidas-curta-c-2-unidades-azul-3ZP-2537-008', '//www.netshoes.com.br/kit-munhequeira-adidas-curta-c-2-unidades-vermelho-3ZP-2536-016', '//www.netshoes.com.br/short-adidas-infantil-fitness-3-stripes-jammer-boys-preto+branco-COL-7615-026', '//www.netshoes.com.br/kit-munhequeira-adidas-curta-c-2-unidades-branco-3ZP-2536-014', '//www.netshoes.com.br/short-adidas-watersword-sport-tech-masculino-preto-3ZP-1376-006', '//www.netshoes.com.br/tenis-adidas-runfalcon-20-masculino-cinza+chumbo-3ZP-0573-446', '//www.netshoes.com.br/overgrip-adidas-c-3-unidades-rosa-3ZP-2540-018', '//www.netshoes.com.br/overgrip-adidas-c-3-unidades-laranja-3ZP-2540-042', '//www.netshoes.com.br/overgrip-adidas-c-3-unidades-amarelo-3ZP-2540-030', '//www.netshoes.com.br/tenis-adidas-kaptir-20-masculino-branco+preto-3ZP-1049-028', '//www.netshoes.com.br/overgrip-adidas-c-3-unidades-branco-3ZP-2540-014', '//www.netshoes.com.br/tenis-adidas-runfalcon-20-feminino-azul+claro+branco-3ZP-0572-832', '//www.netshoes.com.br/tenis-adidas-grand-court-zebra-feminino-branco-3ZP-3035-014', '//www.netshoes.com.br/tenis-adidas-racer-tr-21-feminino-rosa-3ZP-1062-018', '//www.netshoes.com.br/tenis-adidas-runfalcon-20-masculino-azul+escuro-3ZP-0573-342', '//www.netshoes.com.br/tenis-adidas-runfalcon-20-feminino-gelo-NQQ-6922-222', '//www.netshoes.com.br/tenis-adidas-ultrabounce-feminino-branco+preto-3ZP-0582-028', '//www.netshoes.com.br/tenis-adidas-duramo-sl-masculino-cinza+preto-3ZP-0560-128', '//www.netshoes.com.br/tenis-adidas-runfalcon-20-feminino-rosa+claro-3ZP-0572-876', '//www.netshoes.com.br/tenis-adidas-runfalcon-20-feminino-preto+rosa-NQQ-6922-158']\n"
          ]
        }
      ]
    },
    {
      "cell_type": "code",
      "source": [
        "for link in links:\n",
        "    mainlink = 'https:' + link\n",
        "    res1 = requests.request(\"get\", url = mainlink, headers = headers)\n",
        "    response1 = HtmlResponse(url = mainlink, body = res1.content)\n",
        "\n",
        "    discount_price = ''.join(response1.xpath('//*[@class=\"price price-box \"]/div/span/strong/text()').extract()).strip()\n",
        "    main_price = ''.join(response1.xpath('//*[@class=\"price price-box \"]/del/text()').extract()).strip()\n",
        "    rating = ''.join(response1.xpath('//a[@data-anchor-btn=\"reviews\"]/span/text()').extract()).strip()\n",
        "    description = ''.join(response1.xpath('//ul[@class=\"attributes\"]/li/strong/text()[1]').extract()).strip()\n",
        "    print(discount_price, main_price, rating, description)"
      ],
      "metadata": {
        "colab": {
          "base_uri": "https://localhost:8080/"
        },
        "id": "YZI1UAjyCW8A",
        "outputId": "18ffe221-cebf-40fa-ee81-3b9d7a3b1f2d"
      },
      "execution_count": 34,
      "outputs": [
        {
          "output_type": "stream",
          "name": "stdout",
          "text": [
            "R$ 169,99 R$ 249,99 4.55 Indicado para:Material:Composição:Pisada:Garantia do Fabricante:Origem:Nome:Gênero:Indicado para:Material:Composição:Pisada:Garantia do Fabricante:Origem:Marca:\n",
            "   Nome:Gênero:Indicado para:Material:Composição:Pisada:Garantia do Fabricante:Origem:\n",
            "R$ 219,99 R$ 299,99 4.67 Indicado para:Material:Categoria:Composição:Pisada:Garantia do Fabricante:Nome:Gênero:Indicado para:Material:Categoria:Composição:Pisada:Garantia do Fabricante:Origem:Marca:\n",
            "R$ 229,99 R$ 299,99 4.67 Indicado para:Material:Categoria:Composição:Pisada:Garantia do Fabricante:Nome:Gênero:Indicado para:Material:Categoria:Composição:Pisada:Garantia do Fabricante:Origem:Marca:\n",
            "R$ 349,99 R$ 599,99 4.76 Indicado para:Material:Tecnologia:Definição da Tecnologia:Composição:Garantia do Fabricante:Nome:Gênero:Indicado para:Material:Tecnologia:Definição da Tecnologia:Composição:Garantia do Fabricante:Origem:Marca:\n",
            "  4.31 Indicado para:Material:Garantia do Fabricante:Origem:Nome:Gênero:Indicado para:Material:Garantia do Fabricante:Origem:Marca:\n",
            "R$ 289,99 R$ 599,99 4.2 Indicado para:Material:Tecnologia:Definição da Tecnologia:Composição:Garantia do Fabricante:Nome:Gênero:Indicado para:Material:Tecnologia:Definição da Tecnologia:Composição:Garantia do Fabricante:Origem:Marca:\n",
            "R$ 79,99 R$ 119,99 4.76 Indicado para:Material:Composição:Tecnologia:Definição da Tecnologia:Garantia do Fabricante:Nome:Gênero:Indicado para:Material:Composição:Tecnologia:Definição da Tecnologia:Garantia do Fabricante:Origem:Marca:\n",
            "R$ 109,99 R$ 179,99 4.27 Indicado para:Material:Garantia do Fabricante:Origem:Nome:Gênero:Indicado para:Material:Garantia do Fabricante:Origem:Marca:\n",
            "R$ 79,99 R$ 129,99 4.64 Indicado para:Material:Tecnologia:Definição da Tecnologia:Garantia do Fabricante:Origem:Nome:Gênero:Indicado para:Material:Tecnologia:Definição da Tecnologia:Garantia do Fabricante:Origem:Marca:\n",
            "  4 Indicado para:Fechamento:Material:Bolso:Estilo da Peça:Garantia do Fabricante:Nome:Gênero:Indicado para:Fechamento:Material:Bolso:Estilo da Peça:Garantia do Fabricante:Origem:Marca:\n",
            "  4.75 Indicado para:Material:Manga:Fechamento:Estilo da Peça:Tecnologia:Nome:Gênero:Indicado para:Material:Manga:Fechamento:Estilo da Peça:Tecnologia:Definição da Tecnologia:Composição:Garantia do Fabricante:Origem:Marca:\n",
            "R$ 189,99 R$ 279,99 4.6 Indicado para:Material:Categoria:Composição:Peso do Produto:Tecnologia:Nome:Gênero:Indicado para:Material:Categoria:Composição:Peso do Produto:Tecnologia:Pisada:Definição da Tecnologia:Garantia do Fabricante:Origem:Marca:\n",
            "R$ 149,99 R$ 299,99 4.5 Indicado para:Material:Composição:Tecnologia:Garantia do Fabricante:Origem:Nome:Gênero:Indicado para:Material:Composição:Tecnologia:Garantia do Fabricante:Origem:Marca:\n",
            "R$ 104,40 R$ 109,90 4.67 Indicado para:Itens Inclusos:Garantia do Fabricante:Origem:Nome:Gênero:Indicado para:Itens Inclusos:Garantia do Fabricante:Origem:Marca:\n",
            "R$ 89,99 R$ 179,99 4.27 Indicado para:Material:Garantia do Fabricante:Origem:Nome:Gênero:Indicado para:Material:Garantia do Fabricante:Origem:Marca:\n",
            "R$ 189,99 R$ 249,99 4.65 Indicado para:Material:Composição:Pisada:Garantia do Fabricante:Origem:Nome:Gênero:Indicado para:Material:Composição:Pisada:Garantia do Fabricante:Origem:Marca:\n",
            "R$ 599,99 R$ 799,99  Indicado para:Fechamento:Dimensões Aproximadas:Composição:Garantia do Fabricante:Origem:Nome:Gênero:Indicado para:Fechamento:Dimensões Aproximadas:Composição:Garantia do Fabricante:Origem:Marca:\n",
            "  4.35 Indicado para:Material:Tecnologia:Definição da Tecnologia:Garantia do Fabricante:Origem:Nome:Gênero:Indicado para:Material:Tecnologia:Definição da Tecnologia:Garantia do Fabricante:Origem:Marca:\n",
            "R$ 69,99 R$ 99,99 4.7 Indicado para:Bolso:Material:Estilo da Peça:Cós:Tecnologia:Nome:Gênero:Indicado para:Bolso:Material:Estilo da Peça:Cós:Tecnologia:Definição da Tecnologia:Composição:Fechamento:Garantia do Fabricante:Origem:Marca:\n",
            "R$ 229,99 R$ 299,99 4.59 Indicado para:Material:Categoria:Composição:Peso do Produto:Tecnologia:Nome:Gênero:Indicado para:Material:Categoria:Composição:Peso do Produto:Tecnologia:Pisada:Definição da Tecnologia:Garantia do Fabricante:Origem:Marca:\n",
            "R$ 599,99 R$ 799,99  Indicado para:Tipo:Fechamento:Dimensões Aproximadas:Composição:Garantia do Fabricante:Nome:Gênero:Indicado para:Tipo:Fechamento:Dimensões Aproximadas:Composição:Garantia do Fabricante:Origem:Marca:\n",
            "R$ 66,99 R$ 89,99 5 Indicado para:Tipo:Itens Inclusos:Garantia do Fabricante:Origem:Nome:Gênero:Indicado para:Tipo:Itens Inclusos:Garantia do Fabricante:Origem:Marca:\n",
            "R$ 65,99 R$ 89,99  Indicado para:Tipo:Composição:Itens Inclusos:Garantia do Fabricante:Origem:Nome:Gênero:Indicado para:Tipo:Composição:Itens Inclusos:Garantia do Fabricante:Origem:Marca:\n",
            "  4.67 Indicado para:Material:Composição:Estilo da Peça:Tecnologia:Garantia do Fabricante:Nome:Gênero:Indicado para:Material:Composição:Estilo da Peça:Tecnologia:Garantia do Fabricante:Origem:Marca:\n",
            "R$ 64,99 R$ 89,99  Indicado para:Tipo:Composição:Itens Inclusos:Garantia do Fabricante:Origem:Nome:Gênero:Indicado para:Tipo:Composição:Itens Inclusos:Garantia do Fabricante:Origem:Marca:\n",
            "R$ 159,99 R$ 299,99  Indicado para:Bolso:Material:Estilo da Peça:Cós:Bermuda Interna:Nome:Gênero:Indicado para:Bolso:Material:Estilo da Peça:Cós:Bermuda Interna:Composição:Garantia do Fabricante:Origem:Marca:\n",
            "R$ 229,99 R$ 349,99 4.67 Indicado para:Material:Categoria:Composição:Pisada:Garantia do Fabricante:Nome:Gênero:Indicado para:Material:Categoria:Composição:Pisada:Garantia do Fabricante:Origem:Marca:\n",
            "R$ 65,99 R$ 99,99  Indicado para:Quantidade:Composição:Espessura:Garantia do Fabricante:Origem:Nome:Gênero:Indicado para:Quantidade:Composição:Espessura:Garantia do Fabricante:Origem:Marca:\n",
            "R$ 68,99 R$ 99,99  Indicado para:Quantidade:Composição:Espessura:Garantia do Fabricante:Origem:Nome:Gênero:Indicado para:Quantidade:Composição:Espessura:Garantia do Fabricante:Origem:Marca:\n",
            "R$ 66,99 R$ 99,99  Indicado para:Quantidade:Composição:Espessura:Garantia do Fabricante:Origem:Nome:Gênero:Indicado para:Quantidade:Composição:Espessura:Garantia do Fabricante:Origem:Marca:\n",
            "R$ 339,99 R$ 499,99 4.47 Departamento BS:Indicado para:Estilo da Peça:Material:Material Interno:Altura do Cano:Nome:Gênero:Departamento BS:Indicado para:Estilo da Peça:Material:Material Interno:Altura do Cano:Fechamento:Solado:Tecnologia:Definição da Tecnologia:Composição:Peso do Produto:Garantia do Fabricante:Origem:Marca:\n",
            "R$ 65,99 R$ 99,99  Indicado para:Quantidade:Composição:Espessura:Garantia do Fabricante:Origem:Nome:Gênero:Indicado para:Quantidade:Composição:Espessura:Garantia do Fabricante:Origem:Marca:\n",
            "R$ 229,99 R$ 349,99 4.74 Indicado para:Material:Categoria:Composição:Pisada:Garantia do Fabricante:Nome:Gênero:Indicado para:Material:Categoria:Composição:Pisada:Garantia do Fabricante:Origem:Marca:\n",
            "R$ 229,99 R$ 349,99 4.75 Indicado para:Estilo da Peça:Material:Altura do Cano:Fechamento:Solado:Nome:Gênero:Indicado para:Estilo da Peça:Material:Altura do Cano:Fechamento:Solado:Garantia do Fabricante:Origem:Marca:\n",
            "R$ 399,99 R$ 499,99 4.22 Departamento BS:Indicado para:Estilo da Peça:Material:Altura do Cano:Fechamento:Nome:Gênero:Departamento BS:Indicado para:Estilo da Peça:Material:Altura do Cano:Fechamento:Solado:Tecnologia:Definição da Tecnologia:Composição:Garantia do Fabricante:Origem:Marca:\n",
            "R$ 199,99 R$ 279,99 4.67 Indicado para:Material:Categoria:Composição:Pisada:Garantia do Fabricante:Nome:Gênero:Indicado para:Material:Categoria:Composição:Pisada:Garantia do Fabricante:Origem:Marca:\n",
            "  4.59 Indicado para:Material:Categoria:Composição:Peso do Produto:Tecnologia:Nome:Gênero:Indicado para:Material:Categoria:Composição:Peso do Produto:Tecnologia:Pisada:Definição da Tecnologia:Garantia do Fabricante:Origem:Marca:\n",
            "  4.86 Indicado para:Categoria:Terreno:Material:Tecnologia:Definição da Tecnologia:Nome:Gênero:Indicado para:Categoria:Terreno:Material:Tecnologia:Definição da Tecnologia:Composição:Pisada:Garantia do Fabricante:Origem:Marca:\n",
            "  4.55 Indicado para:Categoria:Terreno:Material:Composição:Pisada:Nome:Gênero:Indicado para:Categoria:Terreno:Material:Composição:Pisada:Garantia do Fabricante:Origem:Marca:\n",
            "R$ 219,99 R$ 349,99 4.74 Indicado para:Material:Categoria:Composição:Pisada:Garantia do Fabricante:Nome:Gênero:Indicado para:Material:Categoria:Composição:Pisada:Garantia do Fabricante:Origem:Marca:\n",
            "  4.59 Indicado para:Material:Categoria:Composição:Peso do Produto:Tecnologia:Nome:Gênero:Indicado para:Material:Categoria:Composição:Peso do Produto:Tecnologia:Pisada:Definição da Tecnologia:Garantia do Fabricante:Origem:Marca:\n"
          ]
        }
      ]
    },
    {
      "cell_type": "code",
      "source": [
        "for link in links:\n",
        "    mainlink = 'https:' + link\n",
        "    res1 = requests.request(\"get\", url = mainlink, headers = headers)\n",
        "    response1 = HtmlResponse(url = mainlink, body = res1.content)\n",
        "\n",
        "    color_available = ''.join(response1.xpath('//*[@class=\"radio-options display-thumbs\"]/li/text()').extract()).strip()\n",
        "\n",
        "    size = '|'.join(response1.xpath('//*[@class=\"radio-options\"]/li/a/text()').extract()).strip()\n",
        "    print(size, color_available)"
      ],
      "metadata": {
        "colab": {
          "base_uri": "https://localhost:8080/"
        },
        "id": "vVm7SJf0CW-T",
        "outputId": "9d445e3f-d110-4d13-fdc7-e49402f07def"
      },
      "execution_count": 32,
      "outputs": [
        {
          "output_type": "stream",
          "name": "stdout",
          "text": [
            "38|39|40|41|42|43|44 \n",
            " \n",
            "38|39|40|41|42|43|44 \n",
            "38|39|40|41|42|43|44 \n",
            "38|39|40|41|42|43|44 \n",
            "32/33|34/35|36/37 \n",
            "34|35|36|37|38|39 \n",
            "7/8A|9/10A|11/12A \n",
            "34/35|36/37|38/39 \n",
            "13/14A \n",
            "P|M|G|GG \n",
            "EP|P|M|G \n",
            "38|39|40|41|42|43|44 \n",
            "EP|P|M|G \n",
            "Único \n",
            "34/35|36/37|38/39 \n",
            "34|35|36|37|38|39 \n",
            "Único \n",
            "38-39|40-41|42-43|44-45 \n",
            "P|M|G|GG \n",
            "34|35|36|37|38|39 \n",
            "Único \n",
            "Único \n",
            "Único \n",
            "7/8A|9/10A|11/12A|13/14A \n",
            "Único \n",
            "30|32|34|36 \n",
            "38|39|40|41|42|43|44 \n",
            "Único \n",
            "Único \n",
            "Único \n",
            "38|39|40|41|42|43|44 \n",
            "Único \n",
            "34|35|36|37|38|39 \n",
            "34|35|36|37|38|39 \n",
            "34|35|36|37|38|39 \n",
            "38|39|40|41|42|43|44 \n",
            "34|35|36|37|38|39 \n",
            "34|35|36|37|38|39 \n",
            "38|39|40|41|42|43|44 \n",
            "34|35|36|37|38|39 \n",
            "34|35|36|37|38|39 \n"
          ]
        }
      ]
    },
    {
      "cell_type": "code",
      "source": [
        ""
      ],
      "metadata": {
        "id": "9MuPLKV4CXA8"
      },
      "execution_count": null,
      "outputs": []
    },
    {
      "cell_type": "code",
      "source": [
        ""
      ],
      "metadata": {
        "id": "G0ikM4K4CXDY"
      },
      "execution_count": null,
      "outputs": []
    },
    {
      "cell_type": "code",
      "source": [
        ""
      ],
      "metadata": {
        "id": "X1TyKLzxCXIl"
      },
      "execution_count": null,
      "outputs": []
    },
    {
      "cell_type": "code",
      "source": [
        ""
      ],
      "metadata": {
        "id": "JACV59xbCXLV"
      },
      "execution_count": null,
      "outputs": []
    },
    {
      "cell_type": "code",
      "source": [
        ""
      ],
      "metadata": {
        "id": "26QaAjShCXN9"
      },
      "execution_count": null,
      "outputs": []
    }
  ]
}